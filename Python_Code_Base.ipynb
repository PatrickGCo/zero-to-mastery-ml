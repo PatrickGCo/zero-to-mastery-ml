{
  "nbformat": 4,
  "nbformat_minor": 0,
  "metadata": {
    "colab": {
      "name": "Python Code Base.ipynb",
      "provenance": [],
      "collapsed_sections": [
        "6LaJzmDmdIDV",
        "fwPh5keDui2W",
        "0jCbQkwMurAH",
        "0xflNTzEyz_m",
        "MX3n-fS86TdC",
        "0gyFhF8RAVXb",
        "RuxInNirKlcz",
        "SseYRN07Yg9F"
      ],
      "toc_visible": true,
      "authorship_tag": "ABX9TyObiLsDv9MjeauYqbfVqJ3Y",
      "include_colab_link": true
    },
    "kernelspec": {
      "name": "python3",
      "display_name": "Python 3"
    }
  },
  "cells": [
    {
      "cell_type": "markdown",
      "metadata": {
        "id": "view-in-github",
        "colab_type": "text"
      },
      "source": [
        "<a href=\"https://colab.research.google.com/github/PatrickGCo/zero-to-mastery-ml/blob/master/Python_Code_Base.ipynb\" target=\"_parent\"><img src=\"https://colab.research.google.com/assets/colab-badge.svg\" alt=\"Open In Colab\"/></a>"
      ]
    },
    {
      "cell_type": "markdown",
      "metadata": {
        "id": "HVtoyPyUMOmS",
        "colab_type": "text"
      },
      "source": [
        "\n",
        "Install Libraries\n",
        "\n"
      ]
    },
    {
      "cell_type": "code",
      "metadata": {
        "id": "FORKdYSwMpPM",
        "colab_type": "code",
        "colab": {}
      },
      "source": [
        "!pip install -q keras"
      ],
      "execution_count": 0,
      "outputs": []
    },
    {
      "cell_type": "markdown",
      "metadata": {
        "id": "6m7ZLcGdK6z5",
        "colab_type": "text"
      },
      "source": [
        "Import Libraries"
      ]
    },
    {
      "cell_type": "code",
      "metadata": {
        "id": "NFG3KemuIZ4Y",
        "colab_type": "code",
        "colab": {}
      },
      "source": [
        "import numpy as np\n",
        "import matplotlib.pyplot as plt\n"
      ],
      "execution_count": 0,
      "outputs": []
    },
    {
      "cell_type": "markdown",
      "metadata": {
        "id": "VVVjEWS6LDlm",
        "colab_type": "text"
      },
      "source": [
        "Import Data From Google Drive "
      ]
    },
    {
      "cell_type": "code",
      "metadata": {
        "id": "rfAc_M5DK5yp",
        "colab_type": "code",
        "colab": {}
      },
      "source": [
        "from google.colab import drive\n",
        "drive.mount ('/content/drive')"
      ],
      "execution_count": 0,
      "outputs": []
    },
    {
      "cell_type": "markdown",
      "metadata": {
        "id": "O98tDCMDRrnh",
        "colab_type": "text"
      },
      "source": [
        "#Lists"
      ]
    },
    {
      "cell_type": "markdown",
      "metadata": {
        "id": "lfBK2jUQqw1Y",
        "colab_type": "text"
      },
      "source": [
        "##Create Python List"
      ]
    },
    {
      "cell_type": "code",
      "metadata": {
        "id": "p9Y4qk8Kqv4T",
        "colab_type": "code",
        "outputId": "97f43175-d788-411f-ba1d-0df98c1136a1",
        "colab": {
          "base_uri": "https://localhost:8080/",
          "height": 35
        }
      },
      "source": [
        "## create python list \n",
        "car_ages = [34,43,23,43,24,23,42,12]\n",
        "\n",
        "type(car_ages) ## determine data type of object\n",
        "reverse =[]\n",
        "\n",
        "\n",
        "for items in range(len(car_ages)-1,-1,-1):\n",
        "    reverse.append(car_ages[items])\n",
        "\n",
        "print (reverse)"
      ],
      "execution_count": 0,
      "outputs": [
        {
          "output_type": "stream",
          "text": [
            "[12, 42, 23, 24, 43, 23, 43, 34]\n"
          ],
          "name": "stdout"
        }
      ]
    },
    {
      "cell_type": "markdown",
      "metadata": {
        "id": "YMyroPHgTxvs",
        "colab_type": "text"
      },
      "source": [
        "#Function Examples \n"
      ]
    },
    {
      "cell_type": "markdown",
      "metadata": {
        "id": "_mEtwhSCrCls",
        "colab_type": "text"
      },
      "source": [
        "## Use int() to change data type to integer"
      ]
    },
    {
      "cell_type": "code",
      "metadata": {
        "id": "UFtL1tNTMqtN",
        "colab_type": "code",
        "outputId": "087f1330-0c49-4eb4-868a-c0ec50fc276f",
        "colab": {
          "base_uri": "https://localhost:8080/",
          "height": 69
        }
      },
      "source": [
        "\n",
        "#In a Python file, use input() to ask the user to enter an integer that 10 will be added to.  Assign what they type to a variable.\n",
        "#print() the sum of the integer they entered and 10.\n",
        "\n",
        "response = int(input (\"enter an integer that 10 will be added to \")) + 10 \n",
        "print (response)\n",
        "print  (type(response))\n",
        "\n"
      ],
      "execution_count": 0,
      "outputs": [
        {
          "output_type": "stream",
          "text": [
            "enter an integer that 10 will be added to 3\n",
            "13\n",
            "<class 'int'>\n"
          ],
          "name": "stdout"
        }
      ]
    },
    {
      "cell_type": "markdown",
      "metadata": {
        "id": "dPcB9OSrUAJe",
        "colab_type": "text"
      },
      "source": [
        "The formula for converting from degrees Celsius to degrees Fahrenheit is as follows:\n",
        "\n",
        "F = 1.8 * C + 32\n",
        "\n",
        "Where F is the Fahrenheit temperature and C is the Celsius temperature.\n",
        "\n",
        "In a .py file, create a variable and assign it an integer representing a celsius temperature that is entered as user input().  input()'s message should prompt the user to enter an integer value.\n",
        "\n",
        "For this programming challenge, you will then write a function called fahrenheit that takes in an integer representing a Celsius temperature as its argument.  The function will return the Fahrenheit equivalent temperature of that argument to 1 place after the decimal.\n",
        "\n",
        "At the end of your program, display the Fahrenheit equivalent in a print statement message formatted like so:  \"The Fahrenheit equivalent of [user entered integer] degrees Celsius is [number returned by function]\".\n",
        "\n",
        "To make sure that the function works, run your program multiple times and call the function on different user entered integer values both negative and positive."
      ]
    },
    {
      "cell_type": "code",
      "metadata": {
        "id": "pcyY3q0xT64V",
        "colab_type": "code",
        "outputId": "527f4336-f266-480d-b455-1859450179dd",
        "colab": {
          "base_uri": "https://localhost:8080/",
          "height": 52
        }
      },
      "source": [
        "celcius = int(input (\"Enter Celcius \"))\n",
        "\n",
        "def farenheit_conversion (celcius): \n",
        "  return 1.8 * celcius + 32 \n",
        "\n",
        "\n",
        "farenheit = (str(int(round(farenheit_conversion (celcius),0))))\n",
        "print (str(celcius) + ' celcius is equal to ' + farenheit + ' farenheit')"
      ],
      "execution_count": 0,
      "outputs": [
        {
          "output_type": "stream",
          "text": [
            "Enter Celcius -30\n",
            "-30 celcius is equal to -22 farenheit\n"
          ],
          "name": "stdout"
        }
      ]
    },
    {
      "cell_type": "markdown",
      "metadata": {
        "id": "6LaJzmDmdIDV",
        "colab_type": "text"
      },
      "source": [
        "# Importing Module Example "
      ]
    },
    {
      "cell_type": "markdown",
      "metadata": {
        "id": "VJI5mcnAdSGQ",
        "colab_type": "text"
      },
      "source": [
        "For this exercise, you will create a program that approximates the number of miles per gallon that a car gets.\n",
        "\n",
        "In a .py file, create two variables, one which will hold a randomly generated integer between 10 and 25 (inclusive of both 10 and 25), and another which will hold a randomly generated integer between and inclusive of 200 and 400. The first variable represents the number of gallons of gas that the car's fuel tank holds. The second variable represents the miles that the car can travel on a full tank before needing a refuel.\n",
        "\n",
        "Using the formula miles per gallon (MPG) = miles driven/gallons used, calculate the car's MPG and display it in the output using print().  Use floor division instead of regular division for this calculation to get an integer instead of a float.  This will give a realistic approximation of miles per gallon even though floats such as 19.8 round down a large amount when using floor division since sometimes, car manufacturers sometimes exaggerate miles per gallon.  In addition, display the values held in the variables you created for gallons of gas in the car's fuel tank and miles it can travel on a full tank with two different print statements."
      ]
    },
    {
      "cell_type": "code",
      "metadata": {
        "id": "sKl8-iNpUDGG",
        "colab_type": "code",
        "outputId": "4e4c24b6-0f16-471d-ca9d-bc672cb51782",
        "colab": {
          "base_uri": "https://localhost:8080/",
          "height": 69
        }
      },
      "source": [
        "import random as ran \n",
        "\n",
        "tank_size = ran.randint(10,25)\n",
        "miles = ran.randint(200,400)\n",
        "mpg = miles//tank_size\n",
        "\n",
        "\n",
        "def mpg_calc (): \n",
        "  print (tank_size)\n",
        "  print (miles)\n",
        "  print (mpg)\n",
        "\n",
        "mpg_calc ()"
      ],
      "execution_count": 0,
      "outputs": [
        {
          "output_type": "stream",
          "text": [
            "14\n",
            "364\n",
            "26\n"
          ],
          "name": "stdout"
        }
      ]
    },
    {
      "cell_type": "markdown",
      "metadata": {
        "id": "LtwNFJMjl8Qg",
        "colab_type": "text"
      },
      "source": [
        "# If statements "
      ]
    },
    {
      "cell_type": "markdown",
      "metadata": {
        "id": "8aM4eG5hmAVi",
        "colab_type": "text"
      },
      "source": [
        "Professor Fuentes teaches a Python class and uses the following grading scale for all of her exams. You work as a teacher's assistant and due to her busy schedule she has requested that you write a program which will determine the grades of the class's students.\n",
        "\n",
        "Her grading scale is as follows:\n",
        "\n",
        "A score of 90 or above is an A\n",
        "\n",
        "A score of 80 or above is a B\n",
        "\n",
        "A score of 70 or above is a C\n",
        "\n",
        "A score of 60 or above is a D\n",
        "\n",
        "A score any lower is an F\n",
        "\n",
        "For this exercise, start by creating a variable and assigning that variable a student's score as an integer using input().\n",
        "\n",
        "Then, using nested if and else statements and the following set of rules, determine and then display the student's grade along with their score using print(). \n",
        "\n",
        "If the student's score is greater than or equal to 90, then the student will receive an A grade.\n",
        "\n",
        "Otherwise, if the student's score is greater than or equal to 80, then the student will receive an B grade.\n",
        "\n",
        "Otherwise, if the student's score is greater than or equal to 70, then the student will receive an C grade.\n",
        "\n",
        "Otherwise, if the student's score is greater than or equal to 60, then the student will receive an D grade.\n",
        "\n",
        "Otherwise, the student will receive an F grade.\n",
        "\n",
        "Make sure to run your program multiple times and test it with values for each 5 of the different grades to make sure that the correct output is displayed for any value entered as a student's score."
      ]
    },
    {
      "cell_type": "code",
      "metadata": {
        "id": "EuYMtPaXmHfk",
        "colab_type": "code",
        "outputId": "4446356d-a5e8-450e-e57d-6dbf21f872ef",
        "colab": {
          "base_uri": "https://localhost:8080/",
          "height": 52
        }
      },
      "source": [
        "score = int(input(\"What was the student's score? \"))\n",
        "\n",
        "def grade_calc (score):\n",
        "  if score >= 90: \n",
        "    grade = 'A'\n",
        "    return grade\n",
        "  if score >= 80: \n",
        "    grade = 'B'\n",
        "    return grade\n",
        "  if score >= 70 :\n",
        "    grade = 'C'\n",
        "    return grade\n",
        "  if score >=60: \n",
        "    grade = 'D'\n",
        "    return grade\n",
        "  else: \n",
        "    grade = 'F'\n",
        "    return grade\n",
        "\n",
        "print ('Your mark was '+ str(score) +', resulting in a grade of ' + grade_calc(score))\n"
      ],
      "execution_count": 0,
      "outputs": [
        {
          "output_type": "stream",
          "text": [
            "What was the student's score? 34\n",
            "Your mark was 34, resulting in a grade of F\n"
          ],
          "name": "stdout"
        }
      ]
    },
    {
      "cell_type": "markdown",
      "metadata": {
        "id": "BxYx_goMpTD-",
        "colab_type": "text"
      },
      "source": [
        "For this exercise, start by creating a variable and assigning it a randomly generated integer between and inclusive of both 1 and 10.\n",
        "\n",
        "Then, using your knowledge of if, elif, and else statements, create a program which prints the roman numeral equivalent of the randomly generated number.\n",
        "\n",
        "For example, if the randomly generated integer was 9, then the program would say that the roman numeral equivalent of 9 is IX in the output."
      ]
    },
    {
      "cell_type": "code",
      "metadata": {
        "id": "k8J2MhB-pWJ4",
        "colab_type": "code",
        "outputId": "7617fc30-d878-4495-d841-91a8fbe78225",
        "colab": {
          "base_uri": "https://localhost:8080/",
          "height": 35
        }
      },
      "source": [
        "import random as ran\n",
        "\n",
        "rand_num = ran.randint(1,10)\n",
        "\n",
        "\n",
        "def roman (rand_num): \n",
        "  if rand_num == 10:\n",
        "    roman = 'X'\n",
        "    return roman \n",
        "  elif rand_num == 9:\n",
        "    roman ='VIIII'\n",
        "    return roman \n",
        "  elif rand_num == 8: \n",
        "    roman = 'VIII'\n",
        "    return roman\n",
        "  elif rand_num == 7: \n",
        "    roman = 'VII'\n",
        "    return roman\n",
        "  elif rand_num == 6: \n",
        "    roman = 'VI'\n",
        "    return roman\n",
        "  elif rand_num == 5: \n",
        "    roman = 'V'\n",
        "    return roman\n",
        "  elif rand_num == 4: \n",
        "    roman = 'IIII'\n",
        "    return roman\n",
        "  elif rand_num == 3: \n",
        "    roman = 'III'\n",
        "    return roman\n",
        "  elif rand_num == 2: \n",
        "    roman = 'II'\n",
        "    return roman\n",
        "  else: \n",
        "    roman = 'I'  \n",
        "print ('Random generated number is ' + str(rand_num) + ' equivalent roman numeral is ' + roman(rand_num))"
      ],
      "execution_count": 0,
      "outputs": [
        {
          "output_type": "stream",
          "text": [
            "Random generated number is 7 equivalent roman numeral is VII\n"
          ],
          "name": "stdout"
        }
      ]
    },
    {
      "cell_type": "markdown",
      "metadata": {
        "id": "fwPh5keDui2W",
        "colab_type": "text"
      },
      "source": [
        "# Loops"
      ]
    },
    {
      "cell_type": "markdown",
      "metadata": {
        "id": "0jCbQkwMurAH",
        "colab_type": "text"
      },
      "source": [
        "## **While Loop Example**\n",
        "\n",
        "Write a program which gets a positive integer from a user using input() and assigns it to a variable.\n",
        "\n",
        "The program should then use a while loop to get the sum of all of the integers from the integer that was entered by the user down to 1.  For example, if the integer entered by the user was 6, the while loop would find the sum of 6, 5, 4, 3, 2, and 1, which is 21.\n",
        "\n",
        "\n",
        "At the bottom of your program create two print statements.  One will display the user entered integer and the other will display the sum found by the while loop."
      ]
    },
    {
      "cell_type": "code",
      "metadata": {
        "id": "l6g0-Nc4uw3W",
        "colab_type": "code",
        "outputId": "e73c668d-f5cb-4fe7-d375-61a01dd1c864",
        "colab": {
          "base_uri": "https://localhost:8080/",
          "height": 468
        }
      },
      "source": [
        "user_input  = int(input('Enter integer value '))\n",
        "count = 0 \n",
        "\n",
        "def integer_calc (user_input):\n",
        "  global count   \n",
        "\n",
        "  while user_input > 0: \n",
        "      \n",
        "     count += 1\n",
        "     user_input += -1\n",
        "     print('current count is ' + str(count))\n",
        "     print('countdown on user_input is ' + str(user_input))\n",
        "\n",
        "integer_calc (user_input)\n",
        "print ('final count is ' + str(count))             "
      ],
      "execution_count": 0,
      "outputs": [
        {
          "output_type": "stream",
          "text": [
            "Enter integer value 12\n",
            "current count is 1\n",
            "countdown on user_input is 11\n",
            "current count is 2\n",
            "countdown on user_input is 10\n",
            "current count is 3\n",
            "countdown on user_input is 9\n",
            "current count is 4\n",
            "countdown on user_input is 8\n",
            "current count is 5\n",
            "countdown on user_input is 7\n",
            "current count is 6\n",
            "countdown on user_input is 6\n",
            "current count is 7\n",
            "countdown on user_input is 5\n",
            "current count is 8\n",
            "countdown on user_input is 4\n",
            "current count is 9\n",
            "countdown on user_input is 3\n",
            "current count is 10\n",
            "countdown on user_input is 2\n",
            "current count is 11\n",
            "countdown on user_input is 1\n",
            "current count is 12\n",
            "countdown on user_input is 0\n",
            "final count is 12\n"
          ],
          "name": "stdout"
        }
      ]
    },
    {
      "cell_type": "markdown",
      "metadata": {
        "id": "0xflNTzEyz_m",
        "colab_type": "text"
      },
      "source": [
        "## For Loop Examples\n",
        "Write a program which calculates the number of characters in a string. The string should be entered using input() and assigned to a variable. \n",
        "\n",
        "Use print() twice at the end of your program.  The first print() will print the string that the user entered and the second print() will display the number of characters in the string.  For example, if the user entered the string \"hello world\", the number of characters would be 11.\n",
        "\n"
      ]
    },
    {
      "cell_type": "code",
      "metadata": {
        "id": "l3ckZ2PzzFuJ",
        "colab_type": "code",
        "outputId": "a5a67780-3e66-478a-c837-2b6beb140348",
        "colab": {
          "base_uri": "https://localhost:8080/",
          "height": 52
        }
      },
      "source": [
        "string = input ('Enter sentence: ')\n",
        "count = 0 \n",
        "\n",
        "for letters in string: \n",
        "  global count \n",
        "  string \n",
        "  count += 1 \n",
        "\n",
        "print ('character count is ' + str(count))\n"
      ],
      "execution_count": 0,
      "outputs": [
        {
          "output_type": "stream",
          "text": [
            "Enter sentence: Coding sucks! \n",
            "character count is 14\n"
          ],
          "name": "stdout"
        }
      ]
    },
    {
      "cell_type": "markdown",
      "metadata": {
        "id": "MX3n-fS86TdC",
        "colab_type": "text"
      },
      "source": [
        "## Range Function Example\n",
        "Write a program that prints the integers 1 through 50 using a loop.\n",
        "\n",
        "However, for numbers which are multiples of both 3 and 5 print “FizzBuzz” in the output. For numbers which are multiples of 3 but not 5 print “Fizz” instead of the number and for the numbers that are multiples of 5 but not 3 print “Buzz” instead of the number.\n",
        "\n",
        "All of the remaining numbers which are not multiples of 3 or 5 should just be printed as themselves."
      ]
    },
    {
      "cell_type": "code",
      "metadata": {
        "id": "lX_RwgNp6X3u",
        "colab_type": "code",
        "colab": {}
      },
      "source": [
        "del item\n",
        "count = 0 \n",
        "item = range(1,50,1)\n",
        "range_count = 1\n",
        "\n",
        "for num in item: \n",
        "  item\n",
        "  range_count += 1\n",
        "  count += 1\n",
        "  if range_count % 3 == 0 and range_count % 5 == 0: \n",
        "    print(str(range_count) + ' ' + 'FizzBuzz')\n",
        "  elif range_count % 3 == 0:\n",
        "    print (str(range_count) + ' ' + 'Fizz')\n",
        "  elif range_count % 5 == 0:\n",
        "    print (str(range_count) + ' ' + 'Buzz')\n",
        "  else: \n",
        "    print (str(range_count))\n",
        "\n"
      ],
      "execution_count": 0,
      "outputs": []
    },
    {
      "cell_type": "markdown",
      "metadata": {
        "id": "0gyFhF8RAVXb",
        "colab_type": "text"
      },
      "source": [
        "## Additional For Loop Example - Calculate Factorial \n",
        "Create a function which takes one positive integer as its input and returns its factorial.\n",
        "\n",
        "To make sure that your function works correctly, you should call it with the inputs 3, 4, and 5 and print what is returned by those calls.  For those inputs, you should get 6, 24, and 120, respectively."
      ]
    },
    {
      "cell_type": "markdown",
      "metadata": {
        "id": "sBR92-hkKlK2",
        "colab_type": "text"
      },
      "source": [
        ""
      ]
    },
    {
      "cell_type": "code",
      "metadata": {
        "id": "Gy8r_Z9jAf9l",
        "colab_type": "code",
        "outputId": "4a6eb758-8209-40cd-bd8f-6108adacfac2",
        "colab": {
          "base_uri": "https://localhost:8080/",
          "height": 52
        }
      },
      "source": [
        "number =  int(input('Enter number '))\n",
        "counter = number\n",
        "factorial = number \n",
        "\n",
        "while counter >= 1:\n",
        "  global factorial\n",
        "\n",
        "  counter += -1  \n",
        "  if counter > 0: \n",
        "    factorial = factorial * (counter)\n",
        "  \n",
        "print ('the factorial of ' + str(number) + ' is ' + str(factorial))\n",
        "\n"
      ],
      "execution_count": 0,
      "outputs": [
        {
          "output_type": "stream",
          "text": [
            "Enter number 5\n",
            "the factorial of 5 is 120\n"
          ],
          "name": "stdout"
        }
      ]
    },
    {
      "cell_type": "markdown",
      "metadata": {
        "id": "RuxInNirKlcz",
        "colab_type": "text"
      },
      "source": [
        "## For Loop Example - Reverse String \n",
        "For this challenge, you will be writing a program which uses a for loop to reverse a string. \n",
        "\n",
        "Start by creating a variable and assigning it a string as user input using input().\n",
        "\n",
        "Use a for loop to reverse the string.  You will need to use range with all 3 inputs for this.  In addition, you should create a variable before the for loop and assign it an empty string.  The variable will be reassigned multiple times within the for loop and end up holding the new reversed string.\n",
        "\n",
        "Print the reversed string at the bottom of your program."
      ]
    },
    {
      "cell_type": "code",
      "metadata": {
        "id": "YsmQp0rxKuo3",
        "colab_type": "code",
        "outputId": "53251faf-ab83-4d7f-aeb4-7ae8acef5470",
        "colab": {
          "base_uri": "https://localhost:8080/",
          "height": 52
        }
      },
      "source": [
        "def revers_string ():\n",
        "  samp_string = input('Enter string to be reversed ')\n",
        "  len_string = len(samp_string)\n",
        "  revers_string = ''\n",
        "  iter_count = 0\n",
        "\n",
        "  for letters in samp_string: \n",
        "    char_add = samp_string[len_string - 1 - iter_count:len_string - iter_count]\n",
        "    revers_string += char_add \n",
        "    iter_count += 1\n",
        "    \n",
        "\n",
        "  print(revers_string)\n",
        "\n",
        "revers_string()\n",
        "  "
      ],
      "execution_count": 0,
      "outputs": [
        {
          "output_type": "stream",
          "text": [
            "Enter string to be reversed Patrick Codrington\n",
            "notgnirdoC kcirtaP\n"
          ],
          "name": "stdout"
        }
      ]
    },
    {
      "cell_type": "code",
      "metadata": {
        "id": "cYtIpzhVReLA",
        "colab_type": "code",
        "outputId": "0900f110-ed70-441f-ea89-72e1fe53fb6e",
        "colab": {
          "base_uri": "https://localhost:8080/",
          "height": 52
        }
      },
      "source": [
        "#leverage range function for same issue as above \n",
        "\n",
        "samp_string = input('Enter string to be reversed ')\n",
        "len_string = len(samp_string)\n",
        "revers_string = ''\n",
        "\n",
        "for item in range((len_string-1),-1,-1):\n",
        "  revers_string += samp_string[item]\n",
        "\n",
        "print (revers_string)"
      ],
      "execution_count": 0,
      "outputs": [
        {
          "output_type": "stream",
          "text": [
            "Enter string to be reversed Patrick \n",
            " kcirtaP\n"
          ],
          "name": "stdout"
        }
      ]
    },
    {
      "cell_type": "markdown",
      "metadata": {
        "id": "0fqzRNWPYhaD",
        "colab_type": "text"
      },
      "source": [
        "# String Functions "
      ]
    },
    {
      "cell_type": "markdown",
      "metadata": {
        "id": "SseYRN07Yg9F",
        "colab_type": "text"
      },
      "source": [
        "## Split() example\n",
        "For this programming challenge, write a program in a .py file which takes a string (you can assign the string to a variable or use input() to get a string from a user) and uses two print() statements to display a list of all of the words that the string contains as well as the number of words in the string. "
      ]
    },
    {
      "cell_type": "code",
      "metadata": {
        "id": "eFldRpemYzNo",
        "colab_type": "code",
        "colab": {}
      },
      "source": [
        "samp_string = input('Enter sentence ')\n",
        "word_list = samp_string.split()\n",
        "list_len = len(word_list)\n",
        "\n",
        "print (word_list)\n",
        "print (list_len)"
      ],
      "execution_count": 0,
      "outputs": []
    },
    {
      "cell_type": "markdown",
      "metadata": {
        "id": "TLI5e1UWVE2S",
        "colab_type": "text"
      },
      "source": [
        " ## Lower() example - apply to entire series "
      ]
    },
    {
      "cell_type": "code",
      "metadata": {
        "id": "fAej9y64VEND",
        "colab_type": "code",
        "colab": {}
      },
      "source": [
        "#Series.str.fn () applies transformation to entire series\n",
        "\n",
        "df2['Title'] = df2['Title'].str.lower()"
      ],
      "execution_count": 0,
      "outputs": []
    },
    {
      "cell_type": "code",
      "metadata": {
        "id": "7faDFKslyMB1",
        "colab_type": "code",
        "outputId": "05da931d-4b04-45f5-ef20-5bfdac107597",
        "colab": {
          "base_uri": "https://localhost:8080/",
          "height": 87
        }
      },
      "source": [
        "## find all non-null (NaN) salary records \n",
        "import re\n",
        "\n",
        "## select data in salary columns where it is not NaN, i.e., where it equal itself\n",
        "with_salary  = df2[df2['Salary '] == df2['Salary ']]['Salary ']\n",
        "\n",
        "for value in range(0,len(df2['Salary ']),1):\n",
        "  if df2['Salary '].iloc[value] == df2['Salary '].iloc[value]: ## find all non-null values\n",
        "    df2['Salary '].iloc[value] = re.sub(\"\\D\", \"\", df2['Salary '].iloc[value]) ## replace non-numeric values\n",
        "\n",
        "\n",
        "## change series to numerics \n",
        "## https://pandas.pydata.org/pandas-docs/stable/reference/api/pandas.to_numeric.html\n",
        "\n",
        "df2['Salary '] = pd.to_numeric(df2['Salary '])  ## update to numeric data type\n",
        "print(df2[df2['Salary ']==df2['Salary ']]['Salary '])"
      ],
      "execution_count": 0,
      "outputs": [
        {
          "output_type": "stream",
          "text": [
            "30    240000.0\n",
            "54       180.0\n",
            "67       200.0\n",
            "Name: Salary , dtype: float64\n"
          ],
          "name": "stdout"
        }
      ]
    },
    {
      "cell_type": "markdown",
      "metadata": {
        "id": "NhBnqvGXyB2C",
        "colab_type": "text"
      },
      "source": [
        "## Remove non-numeric characters from a string \n",
        "\n",
        "\n"
      ]
    },
    {
      "cell_type": "code",
      "metadata": {
        "id": "ESU8z5NyUBzq",
        "colab_type": "code",
        "colab": {}
      },
      "source": [
        "##df1_numerical['Price'] = df1_numerical['Price'].str.replace(\"$\", \"\") ## replace/remove $ \n",
        "##df1_numerical['Price'] = df1_numerical['Price'].str.replace(\",\", \"\") ## replace/remove \",\" "
      ],
      "execution_count": 0,
      "outputs": []
    },
    {
      "cell_type": "markdown",
      "metadata": {
        "id": "NF1m6wPxtRiJ",
        "colab_type": "text"
      },
      "source": [
        "#Pandas examples "
      ]
    },
    {
      "cell_type": "code",
      "metadata": {
        "id": "w3WyFOEWQl78",
        "colab_type": "code",
        "colab": {}
      },
      "source": [
        ""
      ],
      "execution_count": 0,
      "outputs": []
    },
    {
      "cell_type": "markdown",
      "metadata": {
        "id": "BM7dfATbWC3U",
        "colab_type": "text"
      },
      "source": [
        "##Series - example"
      ]
    },
    {
      "cell_type": "code",
      "metadata": {
        "id": "9yoQyAh4U1rm",
        "colab_type": "code",
        "outputId": "f1e4f5d8-3aa7-4296-92bb-e77868900f26",
        "colab": {
          "base_uri": "https://localhost:8080/",
          "height": 69
        }
      },
      "source": [
        "import pandas as pd\n",
        "\n",
        "# 2 data types \n",
        "\n",
        "rand = pd.Series(['Patrick','Heather','Angela'])\n",
        "\n",
        "#second example \n",
        "\n",
        "cars = pd.Series(['Jaguar','Ford','GM'])\n",
        "\n",
        "#for item in cars: \n",
        "#  print (item)\n",
        "\n",
        "for item in range(len(cars)-1,-1,-1): \n",
        "  temp = (cars[item])\n",
        "  print (temp)"
      ],
      "execution_count": 0,
      "outputs": [
        {
          "output_type": "stream",
          "text": [
            "GM\n",
            "Ford\n",
            "Jaguar\n"
          ],
          "name": "stdout"
        }
      ]
    },
    {
      "cell_type": "markdown",
      "metadata": {
        "id": "mZpCfNaeYERv",
        "colab_type": "text"
      },
      "source": [
        "## Dataframe - example \n",
        "![image.png](data:image/png;base64,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)"
      ]
    },
    {
      "cell_type": "code",
      "metadata": {
        "id": "Za76Hf7FYu_i",
        "colab_type": "code",
        "outputId": "fb95932f-ccae-4c8a-9d98-4524620bd26a",
        "colab": {
          "base_uri": "https://localhost:8080/",
          "height": 87
        }
      },
      "source": [
        "df1 = pd.DataFrame({'Names':rand, 'Makes': cars})\n",
        "print (df1)"
      ],
      "execution_count": 0,
      "outputs": [
        {
          "output_type": "stream",
          "text": [
            "     Names   Makes\n",
            "0  Patrick  Jaguar\n",
            "1  Heather    Ford\n",
            "2   Angela      GM\n"
          ],
          "name": "stdout"
        }
      ]
    },
    {
      "cell_type": "markdown",
      "metadata": {
        "id": "YwsUp0B9ZI95",
        "colab_type": "text"
      },
      "source": [
        "## Import Data\n"
      ]
    },
    {
      "cell_type": "code",
      "metadata": {
        "id": "IO0DWRvyZNbc",
        "colab_type": "code",
        "outputId": "3e02f455-974d-4246-c978-eb1ed065c05c",
        "colab": {
          "resources": {
            "http://localhost:8080/nbextensions/google.colab/files.js": {
              "data": "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",
              "ok": true,
              "headers": [
                [
                  "content-type",
                  "application/javascript"
                ]
              ],
              "status": 200,
              "status_text": ""
            }
          },
          "base_uri": "https://localhost:8080/",
          "height": 75
        }
      },
      "source": [
        "# Import Data CSV local \n",
        "# https://towardsdatascience.com/3-ways-to-load-csv-files-into-colab-7c14fcbdcb92\n",
        "\n",
        "\n",
        "from google.colab import files\n",
        "uploaded = files.upload()\n",
        "\n",
        "import io\n",
        "df2 = pd.read_csv(io.BytesIO(uploaded['test.csv'])) #enter filename here\n",
        "# Dataset is now stored in a Pandas Dataframe\n",
        "\n",
        "\n"
      ],
      "execution_count": 0,
      "outputs": [
        {
          "output_type": "display_data",
          "data": {
            "text/html": [
              "\n",
              "     <input type=\"file\" id=\"files-efd76e2f-8951-4de8-88e1-d2cf8d8bf5e4\" name=\"files[]\" multiple disabled />\n",
              "     <output id=\"result-efd76e2f-8951-4de8-88e1-d2cf8d8bf5e4\">\n",
              "      Upload widget is only available when the cell has been executed in the\n",
              "      current browser session. Please rerun this cell to enable.\n",
              "      </output>\n",
              "      <script src=\"/nbextensions/google.colab/files.js\"></script> "
            ],
            "text/plain": [
              "<IPython.core.display.HTML object>"
            ]
          },
          "metadata": {
            "tags": []
          }
        },
        {
          "output_type": "stream",
          "text": [
            "Saving test.csv to test (7).csv\n"
          ],
          "name": "stdout"
        }
      ]
    },
    {
      "cell_type": "code",
      "metadata": {
        "id": "-Tb1yo7RfKty",
        "colab_type": "code",
        "colab": {}
      },
      "source": [
        "# Import data from github  \n",
        "# https://towardsdatascience.com/3-ways-to-load-csv-files-into-colab-7c14fcbdcb92\n",
        "# instruction open dataset in github, select \"view raw\" and enter this url below.\n",
        "\n",
        "import pandas as pd\n",
        "\n",
        "url = 'https://raw.githubusercontent.com/mrdbourke/zero-to-mastery-ml/master/data/car-sales-extended-missing-data.csv'\n",
        "df1 = pd.read_csv(url)\n",
        "# Dataset is now stored in a Pandas Dataframe\n",
        "\n",
        "df1."
      ],
      "execution_count": 0,
      "outputs": []
    },
    {
      "cell_type": "markdown",
      "metadata": {
        "id": "CzFYdLmwhkLk",
        "colab_type": "text"
      },
      "source": [
        "## Export Data"
      ]
    },
    {
      "cell_type": "code",
      "metadata": {
        "id": "9R46VvQkhohF",
        "colab_type": "code",
        "colab": {}
      },
      "source": [
        "##exporting dataframe \n",
        "from google.colab import files\n",
        "download_file = 'test.csv'\n",
        "\n",
        "\n",
        "df2.to_csv(download_file, index=False) #index =False prevents index column being downloaded\n",
        "files.download(download_file)"
      ],
      "execution_count": 0,
      "outputs": []
    },
    {
      "cell_type": "markdown",
      "metadata": {
        "id": "eR8gUc4QEfzQ",
        "colab_type": "text"
      },
      "source": [
        "##Attribute Examples"
      ]
    },
    {
      "cell_type": "code",
      "metadata": {
        "id": "myHyPO1WmfO9",
        "colab_type": "code",
        "colab": {}
      },
      "source": [
        "## type of dataframe \n",
        "\n",
        "## list of column data types \n",
        "df2.dtypes  \n",
        "\n",
        "## list of column names \n",
        "df2.columns\n",
        "\n",
        "## view indexes of dataframe \n",
        "df2.index\n",
        "\n",
        "## provides statistics on numeric columnns\n",
        "df2.describe()\n",
        "\n",
        "## provides columns, record count, column type (dtype), memory usage,etc. \n",
        "df2.info()\n",
        "\n",
        "## find mean \n",
        "df2.mean()\n",
        "\n",
        "## create series and find mean\n",
        "series = pd.Series([300, 342, 24433, 213, 5342, 243])\n",
        "series.mean()\n",
        "\n",
        "## find number of rows in a dataframe\n",
        "len(df2)\n",
        "\n",
        "## see initial records\n",
        "df2.head() ##first 5 records \n",
        "df2.head(20) ##first n records\n",
        "\n",
        "## see final records \n",
        "df2.tail() ##last 5 records \n",
        "df2.tail(12) ##last n records"
      ],
      "execution_count": 0,
      "outputs": []
    },
    {
      "cell_type": "markdown",
      "metadata": {
        "id": "KicEFbB1JY_W",
        "colab_type": "text"
      },
      "source": [
        "# Pandas Continued"
      ]
    },
    {
      "cell_type": "markdown",
      "metadata": {
        "id": "O0EqAOXvJebV",
        "colab_type": "text"
      },
      "source": [
        "##select series example"
      ]
    },
    {
      "cell_type": "code",
      "metadata": {
        "id": "DlMPIPloJoPx",
        "colab_type": "code",
        "colab": {}
      },
      "source": [
        "## select series from dataframe \n",
        "\n",
        "new_series = df2['Date ']\n",
        "new_series\n",
        "\n",
        "## Create series with it's own unique index ordering and then sort \n",
        "countries = pd.Series(['Argentina','United States','United Kingdom','Russia','Italy'], index=[1,5,0,2,4])\n",
        "countries.sort_index()\n",
        "\n",
        "# .loc[] find data in specified series index \n",
        "countries.loc[2]\n",
        "df2.loc[1]\n",
        "\n",
        "# .iloc[] find data based on position and not index \n",
        "df2.iloc[3]\n",
        "\n",
        "## slicing dataframes with loc[] and iloc[]\n",
        "\n",
        "df2.loc[45:]\n",
        "df2.loc[23:25]\n",
        "df2.loc[:2] # provides up to and including n\n",
        "df2.iloc[:2] # provides up to and not including n\n",
        "df2.iloc[52:60]\n",
        "\n",
        "##select column in dataframe \n",
        "df2['Location'] \n",
        "##or \n",
        "df2.Location ##doesn't work with column names that have a space\n",
        "\n",
        "## rows only with specified value \n",
        "new_series = df2[df2['Location']=='San Francisco'] ## all rows \n",
        "new_series = df2[df2['Location']=='San Francisco'].Location ## specific series only\n",
        "\n",
        "##Create crosstab with two variables\n",
        "pd.crosstab(df2['Location'],df2['Title'])\n",
        "\n",
        "# Rows that have NaN in a specified column\n",
        "import numpy as np\n",
        "df1[(np.isnan(df1['Odometer (KM)']))]  ##find record with NaN is the specificied column\n",
        "\n"
      ],
      "execution_count": 0,
      "outputs": []
    },
    {
      "cell_type": "markdown",
      "metadata": {
        "id": "bQZscCFVj9jS",
        "colab_type": "text"
      },
      "source": [
        "##Drop dropna()"
      ]
    },
    {
      "cell_type": "code",
      "metadata": {
        "id": "_LDlBdBLkGBG",
        "colab_type": "code",
        "colab": {}
      },
      "source": [
        "## Drop records with NaN in a given column \n",
        "## https://pandas.pydata.org/pandas-docs/stable/reference/api/pandas.DataFrame.dropna.html\n",
        "\n",
        "for col in df1: \n",
        "  print (col)\n",
        "  series = df1.dropna(subset=[col]) ## drop records with NaN in a given column \n",
        "  print (series)\n",
        "\n",
        "\n",
        "\n",
        "series = df1.dropna() ## drops all records with NaN in any column \n",
        "\n",
        "\n",
        "\n",
        "\n"
      ],
      "execution_count": 0,
      "outputs": []
    },
    {
      "cell_type": "markdown",
      "metadata": {
        "id": "CQ-K674tMBHL",
        "colab_type": "text"
      },
      "source": [
        "## Create Data Frame using manly entered series"
      ]
    },
    {
      "cell_type": "code",
      "metadata": {
        "id": "-Veq23rjMNo6",
        "colab_type": "code",
        "outputId": "8baade85-f98e-49b6-f0df-03d7a7b7f3d1",
        "colab": {
          "base_uri": "https://localhost:8080/",
          "height": 171
        }
      },
      "source": [
        "import numpy as np ## import numpy to create \n",
        "df = pd.DataFrame({'a':[1,2,np.nan,np.nan], 'b':[4,np.nan,6,np.nan], 'c':[np.nan, 8,9,np.nan]})\n",
        "df"
      ],
      "execution_count": 0,
      "outputs": [
        {
          "output_type": "execute_result",
          "data": {
            "text/html": [
              "<div>\n",
              "<style scoped>\n",
              "    .dataframe tbody tr th:only-of-type {\n",
              "        vertical-align: middle;\n",
              "    }\n",
              "\n",
              "    .dataframe tbody tr th {\n",
              "        vertical-align: top;\n",
              "    }\n",
              "\n",
              "    .dataframe thead th {\n",
              "        text-align: right;\n",
              "    }\n",
              "</style>\n",
              "<table border=\"1\" class=\"dataframe\">\n",
              "  <thead>\n",
              "    <tr style=\"text-align: right;\">\n",
              "      <th></th>\n",
              "      <th>a</th>\n",
              "      <th>b</th>\n",
              "      <th>c</th>\n",
              "    </tr>\n",
              "  </thead>\n",
              "  <tbody>\n",
              "    <tr>\n",
              "      <th>0</th>\n",
              "      <td>1.0</td>\n",
              "      <td>4.0</td>\n",
              "      <td>NaN</td>\n",
              "    </tr>\n",
              "    <tr>\n",
              "      <th>1</th>\n",
              "      <td>2.0</td>\n",
              "      <td>NaN</td>\n",
              "      <td>8.0</td>\n",
              "    </tr>\n",
              "    <tr>\n",
              "      <th>2</th>\n",
              "      <td>NaN</td>\n",
              "      <td>6.0</td>\n",
              "      <td>9.0</td>\n",
              "    </tr>\n",
              "    <tr>\n",
              "      <th>3</th>\n",
              "      <td>NaN</td>\n",
              "      <td>NaN</td>\n",
              "      <td>NaN</td>\n",
              "    </tr>\n",
              "  </tbody>\n",
              "</table>\n",
              "</div>"
            ],
            "text/plain": [
              "     a    b    c\n",
              "0  1.0  4.0  NaN\n",
              "1  2.0  NaN  8.0\n",
              "2  NaN  6.0  9.0\n",
              "3  NaN  NaN  NaN"
            ]
          },
          "metadata": {
            "tags": []
          },
          "execution_count": 39
        }
      ]
    },
    {
      "cell_type": "markdown",
      "metadata": {
        "id": "gtNoqx3mWI1A",
        "colab_type": "text"
      },
      "source": [
        "##Group by function - groupby()"
      ]
    },
    {
      "cell_type": "code",
      "metadata": {
        "id": "JLtmd7McRjCC",
        "colab_type": "code",
        "colab": {}
      },
      "source": [
        "## group by function \n",
        "\n",
        "##cars = df1 \n",
        "##cars.groupby(['Make']).mean()\n",
        "\n",
        "## find white cars and group by this \n",
        "\n",
        "white_cars = cars[cars['Colour']=='White']\n",
        "white_cars.groupby(['Make']).mean()\n"
      ],
      "execution_count": 0,
      "outputs": []
    },
    {
      "cell_type": "markdown",
      "metadata": {
        "id": "Y0_0HwWtjCJh",
        "colab_type": "text"
      },
      "source": [
        "##Plot example \n"
      ]
    },
    {
      "cell_type": "code",
      "metadata": {
        "id": "N3fxRURkihcY",
        "colab_type": "code",
        "outputId": "6271acdd-5313-4889-96e2-136951923d2e",
        "colab": {
          "base_uri": "https://localhost:8080/",
          "height": 287
        }
      },
      "source": [
        "## plot the first 20 odometer readings. \n",
        "cars['Odometer (KM)'].head(20).plot()\n",
        "\n",
        "## histogram of odometer readings \n",
        "cars['Odometer (KM)'].hist()"
      ],
      "execution_count": 0,
      "outputs": [
        {
          "output_type": "execute_result",
          "data": {
            "text/plain": [
              "<matplotlib.axes._subplots.AxesSubplot at 0x7f74cb500588>"
            ]
          },
          "metadata": {
            "tags": []
          },
          "execution_count": 138
        },
        {
          "output_type": "display_data",
          "data": {
            "image/png": "[encoded data removed]",
            "text/plain": [
              "<Figure size 432x288 with 1 Axes>"
            ]
          },
          "metadata": {
            "tags": []
          }
        }
      ]
    },
    {
      "cell_type": "markdown",
      "metadata": {
        "id": "BZ5s_Vb9Ypqe",
        "colab_type": "text"
      },
      "source": [
        "## Manipulating Columns"
      ]
    },
    {
      "cell_type": "code",
      "metadata": {
        "id": "xL0LS3wkliwF",
        "colab_type": "code",
        "colab": {}
      },
      "source": [
        "\n",
        "\n",
        "## You can apply all python string functions to string columns by using \n",
        "## Column.str.fn() \n",
        "\n",
        "df2['Title'] = df2['Title'].str.lower() ## set to lower format\n",
        "df2\n",
        "\n",
        "\n",
        "df2['Title'] = df2['Title'].str.title() ## set to case format \n",
        "df2\n",
        "\n",
        "\n"
      ],
      "execution_count": 0,
      "outputs": []
    },
    {
      "cell_type": "markdown",
      "metadata": {
        "id": "CXbPK2gyeclf",
        "colab_type": "text"
      },
      "source": [
        " Replacing/Dropping NaN/null values"
      ]
    },
    {
      "cell_type": "code",
      "metadata": {
        "id": "luPgeSthaVxZ",
        "colab_type": "code",
        "colab": {}
      },
      "source": [
        "\n",
        "## replace NaN / null values - fillna()\n",
        "\n",
        "df1['Doors'] = df1['Doors'].fillna(df1['Doors'].mean()) ##fillna() replaces NaN with mean\n",
        "df1['Doors'] = round(df1['Doors'], 0)\n",
        "df1['Doors'].loc[19:34] \n",
        "\n",
        "\n",
        "## drop NaN records \n",
        "\n",
        "df1.head(30)\n",
        "df1.dropna(inplace = True) ## drop all records/rows with NaN in any column \n",
        "df1.head(30)\n"
      ],
      "execution_count": 0,
      "outputs": []
    },
    {
      "cell_type": "markdown",
      "metadata": {
        "id": "Ut_aqkLHn5LE",
        "colab_type": "text"
      },
      "source": [
        "## Create and populate new column in dataframe\n"
      ]
    },
    {
      "cell_type": "code",
      "metadata": {
        "id": "UNAtT0e1jb_s",
        "colab_type": "code",
        "colab": {}
      },
      "source": [
        "\n",
        "## Create series and add it to a dataframe\n",
        "\n",
        "seats_column = pd.Series([5,5,5,5,5]) ##create new series\n",
        "\n",
        "df1['Seats'] = seats_column ## create column name and add series \n",
        "\n",
        "df1['Seats'].fillna(5, inplace=True)\n",
        "df1.head(10)\n",
        "\n",
        "## Add python list to panda dataframe\n",
        "## List length must be the same as number of rows in dataframe\n",
        "\n",
        "df1a = df1.head(6) ## create new dataframe with \n",
        "miles_per_100 = [7.9, 3.3, 12.1, 12.1, 2.1, 3.4]\n",
        "\n",
        "\n",
        "df1a[\"Miles Per 100 kms\"] = miles_per_100\n",
        "df1a\n",
        "\n"
      ],
      "execution_count": 0,
      "outputs": []
    },
    {
      "cell_type": "markdown",
      "metadata": {
        "id": "sf_ajLetVpro",
        "colab_type": "text"
      },
      "source": [
        "##Create New Column Based on calc in another column"
      ]
    },
    {
      "cell_type": "code",
      "metadata": {
        "id": "N7FHIB0wPkR7",
        "colab_type": "code",
        "colab": {}
      },
      "source": [
        "## column rename\n",
        "##df1a.rename(columns={'Miles Per 100 kms':'Litres Per 100 kms'}, inplace= True)\n",
        "\n",
        "\n",
        "df1a['Total Consumption (Litres)'] = df1a['Litres Per 100 kms'] / 100 * df1a['Odometer (KM)']\n",
        "df1a\n",
        "\n"
      ],
      "execution_count": 0,
      "outputs": []
    },
    {
      "cell_type": "markdown",
      "metadata": {
        "id": "0m98Tf1Uavh3",
        "colab_type": "text"
      },
      "source": [
        "##Create a column from a single value \n"
      ]
    },
    {
      "cell_type": "code",
      "metadata": {
        "id": "OYMreFNLazr6",
        "colab_type": "code",
        "colab": {}
      },
      "source": [
        "df1a[\"Dummy Column\"] = 1 \n",
        "df1a"
      ],
      "execution_count": 0,
      "outputs": []
    },
    {
      "cell_type": "markdown",
      "metadata": {
        "id": "9RZh0NH-flyJ",
        "colab_type": "text"
      },
      "source": [
        "## eliminate need to reassign with inplace () \n",
        "\n"
      ]
    },
    {
      "cell_type": "code",
      "metadata": {
        "id": "n6fVjy_1fz4O",
        "colab_type": "code",
        "colab": {}
      },
      "source": [
        "## this code df1['Doors'] = df1['Doors'].fillna(df1['Doors'].mean()) ##fillna() replaces NaN with mean\n",
        "## can be written as follows \n",
        "\n",
        "df1['Doors'].fillna(df1['Doors'].mean(), inplace = True)  ## set inplace to True so you don't have to reassign\n",
        "\n"
      ],
      "execution_count": 0,
      "outputs": []
    },
    {
      "cell_type": "markdown",
      "metadata": {
        "id": "o8rlYirdbpJN",
        "colab_type": "text"
      },
      "source": [
        "## Drop dataframe columns"
      ]
    },
    {
      "cell_type": "code",
      "metadata": {
        "id": "6wiBb6Bibwaq",
        "colab_type": "code",
        "colab": {}
      },
      "source": [
        "##df1a = df1a.drop('Dummy Column' , axis = 1 ) ## drop Dummy Column \n",
        "\n",
        "df1a"
      ],
      "execution_count": 0,
      "outputs": []
    },
    {
      "cell_type": "markdown",
      "metadata": {
        "id": "PPrfRq9yf6XE",
        "colab_type": "text"
      },
      "source": [
        "# Pandas Dataframes Continued"
      ]
    },
    {
      "cell_type": "markdown",
      "metadata": {
        "id": "OYjW88N4f_Sj",
        "colab_type": "text"
      },
      "source": [
        "##Sample Dataframe"
      ]
    },
    {
      "cell_type": "code",
      "metadata": {
        "id": "cizShl_NgDHl",
        "colab_type": "code",
        "colab": {}
      },
      "source": [
        "df1.sample(frac = .1) ## randomly sample using sample() select 10% of records using frac parameter\n",
        "df1_shuffled = df1.sample (frac = 1) ## take data in random record order\n",
        "\n",
        "df1_shuffled\n",
        "df1_shuffled.reset_index() ## reorders index\n",
        "df1_shuffled.reset_index(drop = True) ## dropped added index column"
      ],
      "execution_count": 0,
      "outputs": []
    },
    {
      "cell_type": "markdown",
      "metadata": {
        "id": "t-Wz4h7AGAdS",
        "colab_type": "text"
      },
      "source": [
        "#Lambda Functions or Annonymous Functions"
      ]
    },
    {
      "cell_type": "code",
      "metadata": {
        "id": "I0cVPfsgIcug",
        "colab_type": "code",
        "outputId": "54bf1842-2df1-4f8f-b787-605da5d2051c",
        "colab": {
          "base_uri": "https://localhost:8080/",
          "height": 35
        }
      },
      "source": [
        "## Lamdba is annonymous function \n",
        "## Lamdba function can be single line functions only \n",
        "## It is constructed as follows \n",
        "\n",
        "lambda x : x*2 - 10 ## keyword lambda, followed by x, followed by what is occuring to x \n",
        "\n",
        "## lamba can be assigned to a variable\n",
        "g = lambda x : x*2 - 10\n",
        "g(-12)\n",
        "\n",
        "## lambda with multiple inputs \n",
        "\n",
        "full_name = lambda fn , ln : fn + ' ' + ln\n",
        "full_name ('Patrick', 'Codrington')\n",
        "\n"
      ],
      "execution_count": 0,
      "outputs": [
        {
          "output_type": "execute_result",
          "data": {
            "text/plain": [
              "'Patrick Codrington'"
            ]
          },
          "metadata": {
            "tags": []
          },
          "execution_count": 5
        }
      ]
    },
    {
      "cell_type": "markdown",
      "metadata": {
        "id": "7DiPXTtmDL37",
        "colab_type": "text"
      },
      "source": [
        "##Leveraging Lambda function"
      ]
    },
    {
      "cell_type": "code",
      "metadata": {
        "id": "hV9ISwzhhzHG",
        "colab_type": "code",
        "colab": {}
      },
      "source": [
        "\n",
        "\n",
        "df1['Odometer (Miles)'] = round(df1['Odometer (KM)'] /1.6,0)\n",
        "df1['Price'] = df1['Price'].apply(lambda x: x / 100) ## divide each number in column by 100 using lambda\n",
        "\n",
        "df1"
      ],
      "execution_count": 0,
      "outputs": []
    },
    {
      "cell_type": "markdown",
      "metadata": {
        "id": "4HsrX1U-O1Nu",
        "colab_type": "text"
      },
      "source": [
        "## Leaveraging Lambda when creating a standard function"
      ]
    },
    {
      "cell_type": "code",
      "metadata": {
        "id": "s7axd0-CMV6n",
        "colab_type": "code",
        "outputId": "480eebe3-dc69-4648-be1c-17686f1ad129",
        "colab": {
          "base_uri": "https://localhost:8080/",
          "height": 35
        }
      },
      "source": [
        "def new_function(a, b, c):\n",
        "  \"\"\"Function description applies quadratic equation to inputed numbers\"\"\"\n",
        "  return lambda x: a*x**2 + b*x + c\n",
        "\n",
        "func = new_function (34,4,-23)\n",
        "func(1)\n",
        "new_function(3,2,1)(1)"
      ],
      "execution_count": 0,
      "outputs": [
        {
          "output_type": "execute_result",
          "data": {
            "text/plain": [
              "6"
            ]
          },
          "metadata": {
            "tags": []
          },
          "execution_count": 16
        }
      ]
    },
    {
      "cell_type": "code",
      "metadata": {
        "id": "LsWi5P15v1ot",
        "colab_type": "code",
        "outputId": "59d95d99-07ab-4b02-c17f-76c2df86dfd3",
        "colab": {
          "base_uri": "https://localhost:8080/",
          "height": 433
        }
      },
      "source": [
        "##Create a set of 2d series and sort by these \n",
        "\n",
        "import pandas as pd\n",
        "df_rand = pd.Series([\"a\",3], [\"d\",5], [\"q\",2], [\"u\",1])\n",
        "\n"
      ],
      "execution_count": 0,
      "outputs": [
        {
          "output_type": "error",
          "ename": "TypeError",
          "evalue": "ignored",
          "traceback": [
            "\u001b[0;31m---------------------------------------------------------------------------\u001b[0m",
            "\u001b[0;31mTypeError\u001b[0m                                 Traceback (most recent call last)",
            "\u001b[0;32m/usr/local/lib/python3.6/dist-packages/pandas/core/dtypes/common.py\u001b[0m in \u001b[0;36mpandas_dtype\u001b[0;34m(dtype)\u001b[0m\n\u001b[1;32m   2049\u001b[0m     \u001b[0;32mtry\u001b[0m\u001b[0;34m:\u001b[0m\u001b[0;34m\u001b[0m\u001b[0;34m\u001b[0m\u001b[0m\n\u001b[0;32m-> 2050\u001b[0;31m         \u001b[0mnpdtype\u001b[0m \u001b[0;34m=\u001b[0m \u001b[0mnp\u001b[0m\u001b[0;34m.\u001b[0m\u001b[0mdtype\u001b[0m\u001b[0;34m(\u001b[0m\u001b[0mdtype\u001b[0m\u001b[0;34m)\u001b[0m\u001b[0;34m\u001b[0m\u001b[0;34m\u001b[0m\u001b[0m\n\u001b[0m\u001b[1;32m   2051\u001b[0m     \u001b[0;32mexcept\u001b[0m \u001b[0mException\u001b[0m\u001b[0;34m:\u001b[0m\u001b[0;34m\u001b[0m\u001b[0;34m\u001b[0m\u001b[0m\n",
            "\u001b[0;31mTypeError\u001b[0m: data type not understood",
            "\nDuring handling of the above exception, another exception occurred:\n",
            "\u001b[0;31mTypeError\u001b[0m                                 Traceback (most recent call last)",
            "\u001b[0;32m<ipython-input-19-c0d46397a858>\u001b[0m in \u001b[0;36m<module>\u001b[0;34m()\u001b[0m\n\u001b[1;32m      1\u001b[0m \u001b[0;34m\u001b[0m\u001b[0m\n\u001b[1;32m      2\u001b[0m \u001b[0;32mimport\u001b[0m \u001b[0mpandas\u001b[0m \u001b[0;32mas\u001b[0m \u001b[0mpd\u001b[0m\u001b[0;34m\u001b[0m\u001b[0;34m\u001b[0m\u001b[0m\n\u001b[0;32m----> 3\u001b[0;31m \u001b[0mdf_rand\u001b[0m \u001b[0;34m=\u001b[0m \u001b[0mpd\u001b[0m\u001b[0;34m.\u001b[0m\u001b[0mSeries\u001b[0m\u001b[0;34m(\u001b[0m\u001b[0;34m[\u001b[0m\u001b[0;34m\"a\"\u001b[0m\u001b[0;34m,\u001b[0m\u001b[0;36m3\u001b[0m\u001b[0;34m]\u001b[0m\u001b[0;34m,\u001b[0m \u001b[0;34m[\u001b[0m\u001b[0;34m\"d\"\u001b[0m\u001b[0;34m,\u001b[0m\u001b[0;36m5\u001b[0m\u001b[0;34m]\u001b[0m\u001b[0;34m,\u001b[0m \u001b[0;34m[\u001b[0m\u001b[0;34m\"q\"\u001b[0m\u001b[0;34m,\u001b[0m\u001b[0;36m2\u001b[0m\u001b[0;34m]\u001b[0m\u001b[0;34m,\u001b[0m \u001b[0;34m[\u001b[0m\u001b[0;34m\"u\"\u001b[0m\u001b[0;34m,\u001b[0m\u001b[0;36m1\u001b[0m\u001b[0;34m]\u001b[0m\u001b[0;34m)\u001b[0m\u001b[0;34m\u001b[0m\u001b[0;34m\u001b[0m\u001b[0m\n\u001b[0m\u001b[1;32m      4\u001b[0m \u001b[0;34m\u001b[0m\u001b[0m\n",
            "\u001b[0;32m/usr/local/lib/python3.6/dist-packages/pandas/core/series.py\u001b[0m in \u001b[0;36m__init__\u001b[0;34m(self, data, index, dtype, name, copy, fastpath)\u001b[0m\n\u001b[1;32m    227\u001b[0m                     \u001b[0mdtype\u001b[0m \u001b[0;34m=\u001b[0m \u001b[0mdata\u001b[0m\u001b[0;34m.\u001b[0m\u001b[0mdtype\u001b[0m\u001b[0;34m\u001b[0m\u001b[0;34m\u001b[0m\u001b[0m\n\u001b[1;32m    228\u001b[0m \u001b[0;34m\u001b[0m\u001b[0m\n\u001b[0;32m--> 229\u001b[0;31m                 \u001b[0mdtype\u001b[0m \u001b[0;34m=\u001b[0m \u001b[0mself\u001b[0m\u001b[0;34m.\u001b[0m\u001b[0m_validate_dtype\u001b[0m\u001b[0;34m(\u001b[0m\u001b[0mdtype\u001b[0m\u001b[0;34m)\u001b[0m\u001b[0;34m\u001b[0m\u001b[0;34m\u001b[0m\u001b[0m\n\u001b[0m\u001b[1;32m    230\u001b[0m \u001b[0;34m\u001b[0m\u001b[0m\n\u001b[1;32m    231\u001b[0m             \u001b[0;32mif\u001b[0m \u001b[0misinstance\u001b[0m\u001b[0;34m(\u001b[0m\u001b[0mdata\u001b[0m\u001b[0;34m,\u001b[0m \u001b[0mMultiIndex\u001b[0m\u001b[0;34m)\u001b[0m\u001b[0;34m:\u001b[0m\u001b[0;34m\u001b[0m\u001b[0;34m\u001b[0m\u001b[0m\n",
            "\u001b[0;32m/usr/local/lib/python3.6/dist-packages/pandas/core/generic.py\u001b[0m in \u001b[0;36m_validate_dtype\u001b[0;34m(self, dtype)\u001b[0m\n\u001b[1;32m    229\u001b[0m \u001b[0;34m\u001b[0m\u001b[0m\n\u001b[1;32m    230\u001b[0m         \u001b[0;32mif\u001b[0m \u001b[0mdtype\u001b[0m \u001b[0;32mis\u001b[0m \u001b[0;32mnot\u001b[0m \u001b[0;32mNone\u001b[0m\u001b[0;34m:\u001b[0m\u001b[0;34m\u001b[0m\u001b[0;34m\u001b[0m\u001b[0m\n\u001b[0;32m--> 231\u001b[0;31m             \u001b[0mdtype\u001b[0m \u001b[0;34m=\u001b[0m \u001b[0mpandas_dtype\u001b[0m\u001b[0;34m(\u001b[0m\u001b[0mdtype\u001b[0m\u001b[0;34m)\u001b[0m\u001b[0;34m\u001b[0m\u001b[0;34m\u001b[0m\u001b[0m\n\u001b[0m\u001b[1;32m    232\u001b[0m \u001b[0;34m\u001b[0m\u001b[0m\n\u001b[1;32m    233\u001b[0m             \u001b[0;31m# a compound dtype\u001b[0m\u001b[0;34m\u001b[0m\u001b[0;34m\u001b[0m\u001b[0;34m\u001b[0m\u001b[0m\n",
            "\u001b[0;32m/usr/local/lib/python3.6/dist-packages/pandas/core/dtypes/common.py\u001b[0m in \u001b[0;36mpandas_dtype\u001b[0;34m(dtype)\u001b[0m\n\u001b[1;32m   2052\u001b[0m         \u001b[0;31m# we don't want to force a repr of the non-string\u001b[0m\u001b[0;34m\u001b[0m\u001b[0;34m\u001b[0m\u001b[0;34m\u001b[0m\u001b[0m\n\u001b[1;32m   2053\u001b[0m         \u001b[0;32mif\u001b[0m \u001b[0;32mnot\u001b[0m \u001b[0misinstance\u001b[0m\u001b[0;34m(\u001b[0m\u001b[0mdtype\u001b[0m\u001b[0;34m,\u001b[0m \u001b[0mstr\u001b[0m\u001b[0;34m)\u001b[0m\u001b[0;34m:\u001b[0m\u001b[0;34m\u001b[0m\u001b[0;34m\u001b[0m\u001b[0m\n\u001b[0;32m-> 2054\u001b[0;31m             \u001b[0;32mraise\u001b[0m \u001b[0mTypeError\u001b[0m\u001b[0;34m(\u001b[0m\u001b[0;34m\"data type not understood\"\u001b[0m\u001b[0;34m)\u001b[0m\u001b[0;34m\u001b[0m\u001b[0;34m\u001b[0m\u001b[0m\n\u001b[0m\u001b[1;32m   2055\u001b[0m         \u001b[0;32mraise\u001b[0m \u001b[0mTypeError\u001b[0m\u001b[0;34m(\u001b[0m\u001b[0;34m\"data type '{}' not understood\"\u001b[0m\u001b[0;34m.\u001b[0m\u001b[0mformat\u001b[0m\u001b[0;34m(\u001b[0m\u001b[0mdtype\u001b[0m\u001b[0;34m)\u001b[0m\u001b[0;34m)\u001b[0m\u001b[0;34m\u001b[0m\u001b[0;34m\u001b[0m\u001b[0m\n\u001b[1;32m   2056\u001b[0m \u001b[0;34m\u001b[0m\u001b[0m\n",
            "\u001b[0;31mTypeError\u001b[0m: data type not understood"
          ]
        }
      ]
    },
    {
      "cell_type": "markdown",
      "metadata": {
        "id": "OozUhs4laPoR",
        "colab_type": "text"
      },
      "source": [
        "#Numpy Intro\n"
      ]
    },
    {
      "cell_type": "markdown",
      "metadata": {
        "id": "yhJI2KvJxOeq",
        "colab_type": "text"
      },
      "source": [
        "## Create An Array "
      ]
    },
    {
      "cell_type": "code",
      "metadata": {
        "id": "K6SOHX-XxS_p",
        "colab_type": "code",
        "colab": {}
      },
      "source": [
        "## create list \n",
        "import pprint as pp\n",
        "\n",
        "name_arr = [{\"Name\": 'fred', \"Age\" : 21 , \"Sex\": \"M\"},\n",
        "       {\"Name\": 'jeff', \"Age\" : 12 , \"Sex\": \"M\"},\n",
        "       {\"Name\": 'vance', \"Age\" : 29 , \"Sex\": \"M\"}, \n",
        "       {\"Name\": 'patricia', \"Age\" : 39 , \"Sex\": \"F\"}]\n",
        "       \n",
        "\n",
        "\n",
        "sorted_arr = sorted(name_arr) ##, key = lambda x : x[\"Name\"])\n",
        "\n",
        "sorted_arr"
      ],
      "execution_count": 0,
      "outputs": []
    },
    {
      "cell_type": "markdown",
      "metadata": {
        "id": "qnefqsCjw06N",
        "colab_type": "text"
      },
      "source": [
        "##Creating NP arrays and NP array functions. "
      ]
    },
    {
      "cell_type": "code",
      "metadata": {
        "id": "NaQRX7dinnh4",
        "colab_type": "code",
        "outputId": "ad0f4c9f-3db2-48b6-8b5b-3e3ca714cc17",
        "colab": {
          "base_uri": "https://localhost:8080/",
          "height": 89
        }
      },
      "source": [
        "##Numpy stands for numerical python \n",
        "##faster processing without the loops \n",
        "##only one data type array \n",
        "#ndarray is an n dimensional arary \n",
        "\n",
        "\n",
        "import numpy as np \n",
        "import pandas as pd \n",
        "import random as rand\n",
        "\n",
        "\n",
        "arr = np.array ([1,2,3])\n",
        "arr\n",
        "#type(arr) \n",
        "# axis 0 refers to rows, axix 1 refers to columns \n",
        "\n",
        "arr1 = np.array ([[2, 1.2, 3], [5,1, 32]]) # create multi dimensional array \n",
        "\n",
        "arr2 = np.array ([[[1, 2, 3],\n",
        "                   [4, 5, 6],\n",
        "                   [7, 8, 9]],\n",
        "                  [[10, 11, 12],\n",
        "                   [13, 14, 15],\n",
        "                   [16, 17, 18]]])\n",
        "\n",
        "arr2\n",
        "\n",
        "arr.shape ## show shapes of an array\n",
        "arr1.shape\n",
        "arr2.shape\n",
        "\n",
        "\n",
        "arr.ndim # number of dimensions \n",
        "arr2.ndim\n",
        "\n",
        "arr.dtype # data type of elements within an array \n",
        "arr1.dtype\n",
        "\n",
        "arr.size #total number of elements in an array\n",
        "\n",
        "type(arr) ## indicates the type of data structure\n",
        "\n",
        "ones = np.ones((3,3,3)) # create a new array of given shape filled with ones\n",
        "zeros = np.zeros((3,3,3)) # create a new array with zeroes\n",
        "\n",
        "ones.dtype ## data type\n",
        "type(ones)\n",
        "\n",
        "\n",
        "ones = np.arange(1, 100, 3) #creates an array with ascending values similar to range function\n",
        "ones = np.random.random_integers(1, 20, size = (12,4,2)) #create arrays of specified dimension using random integers in a given range. \n",
        "ones\n",
        "\n",
        "np.random.seed (1) ## ability to set seed for random generator to replicate random number series but \n",
        "## must be in the same code block \n",
        "\n",
        "arr_random = np.random.random((11,5)) ## creates an array of size (Y, X)\n",
        "arr_rand = np.random.rand(11,5) ## similar to np.random.random() \n",
        "\n",
        "arr_rand\n",
        "\n",
        "np.unique(arr2) ## find the unique values in an array"
      ],
      "execution_count": 0,
      "outputs": [
        {
          "output_type": "stream",
          "text": [
            "/usr/local/lib/python3.6/dist-packages/ipykernel_launcher.py:47: DeprecationWarning: This function is deprecated. Please call randint(1, 20 + 1) instead\n"
          ],
          "name": "stderr"
        },
        {
          "output_type": "execute_result",
          "data": {
            "text/plain": [
              "array([ 1,  2,  3,  4,  5,  6,  7,  8,  9, 10, 11, 12, 13, 14, 15, 16, 17,\n",
              "       18])"
            ]
          },
          "metadata": {
            "tags": []
          },
          "execution_count": 37
        }
      ]
    },
    {
      "cell_type": "markdown",
      "metadata": {
        "id": "XXaZmWegDe1J",
        "colab_type": "text"
      },
      "source": [
        "## Viewing Arrays and Matrices"
      ]
    },
    {
      "cell_type": "code",
      "metadata": {
        "id": "8cvLcdV2-_YH",
        "colab_type": "code",
        "colab": {}
      },
      "source": [
        "arr2.shape ## arr2 has shape 2 N0 and 3 N1 and 3 N2 \n",
        "\n",
        "arr2[1] ## for a 3 dim array this provides the N +1  matrix\n",
        "arr1[1] ## for a 2 dim array this provides row N +1 \n",
        "arr[1]  ## for a vector this provide the N +1 entry\n",
        "arr[1:2] ## slices vector \n",
        "\n",
        "arr2[:1, :1, :1]"
      ],
      "execution_count": 0,
      "outputs": []
    },
    {
      "cell_type": "code",
      "metadata": {
        "id": "drKrUywH-yWZ",
        "colab_type": "code",
        "colab": {}
      },
      "source": [
        "arr3 = np.random.random_integers(2, 234, size =(3,2,3,10))\n",
        "np.random.seed(1)\n",
        "arr3\n",
        "arr3_slice = arr3[:,:,1:2,:] ##get the second row of each matrix \n",
        "\n",
        "\n"
      ],
      "execution_count": 0,
      "outputs": []
    },
    {
      "cell_type": "markdown",
      "metadata": {
        "id": "XVyvDelzCrai",
        "colab_type": "text"
      },
      "source": [
        "##Arithemetic on Arrays"
      ]
    },
    {
      "cell_type": "code",
      "metadata": {
        "id": "KwhSypHgCxzM",
        "colab_type": "code",
        "outputId": "5fd77414-8df0-4429-ff91-9e8874c1fc7c",
        "colab": {
          "base_uri": "https://localhost:8080/",
          "height": 52
        }
      },
      "source": [
        "## add arrays \n",
        "arr_add = arr1 + arr1\n",
        "arr_add = np.add(arr1, arr1)\n",
        "arr_add\n",
        "\n",
        "## subtract arrays \n",
        "arr_sub = arr1 - arr1\n",
        "\n",
        "## multiply arrays - multiplies the array in the same position\n",
        "arr_mutliply = arr1 * arr1\n",
        "\n",
        "## multiple array by array of ones \n",
        "ones = np.ones(3)\n",
        "mult = ones * arr\n",
        "\n",
        "## floor division removes decimals \n",
        "mult = arr1 // ones ## removes remainder \n",
        "mult\n",
        "\n",
        "## square array \n",
        "sqa_arr = arr1 ** 2\n",
        "sqa_arr = np.square(arr1)\n",
        "sqa_arr\n",
        "\n",
        "## remainder from division aka modulo \n",
        "mod_arr = arr1 % 2\n",
        "mod_arr\n",
        "\n",
        "## exp of an array \n",
        "exp_arr = np.exp(arr1)\n",
        "exp_arr\n",
        "\n",
        "## log of an array \n",
        "log_arr = np.log(arr1)\n",
        "log_arr\n",
        "\n"
      ],
      "execution_count": 0,
      "outputs": [
        {
          "output_type": "execute_result",
          "data": {
            "text/plain": [
              "array([[0.69314718, 0.18232156, 1.09861229],\n",
              "       [1.60943791, 0.        , 3.4657359 ]])"
            ]
          },
          "metadata": {
            "tags": []
          },
          "execution_count": 64
        }
      ]
    },
    {
      "cell_type": "markdown",
      "metadata": {
        "id": "5-_Lo4k4FgNH",
        "colab_type": "text"
      },
      "source": [
        "## Aggregation on Arrays \n",
        "(performing same operation on multiple arrays) "
      ]
    },
    {
      "cell_type": "code",
      "metadata": {
        "id": "7brdh2HDMptg",
        "colab_type": "code",
        "colab": {}
      },
      "source": [
        "lst = [1,2,3]\n",
        "\n",
        "## find the sum of all elements in a list - python code \n",
        "sum(lst)\n",
        "\n",
        "arr = np.ones((3,4))\n",
        "sum(arr)  # python functions can also be called on arrays - in this case  \n",
        "## it is suming same element across multiple vectors \n",
        "np.sum(arr) ## this sums all elements in all arrays\n",
        "\n",
        "## use python methods on python structures and numpy methods on numpy structures\n",
        "\n",
        "massive_arr = np.random.randint(1, 1234, size=(10000000))\n",
        "massive_arr[:20]\n",
        "\n",
        "%timeit sum(massive_arr) #sum python sum \n",
        "%timeit np.sum(massive_arr) #sum numpy sum\n",
        "\n",
        "np.mean(arr2) ## calculate the mean \n",
        "np.min(arr2) ## find the min element \n",
        "np.max(arr2) ## find the max element \n",
        "\n",
        "\n"
      ],
      "execution_count": 0,
      "outputs": []
    },
    {
      "cell_type": "markdown",
      "metadata": {
        "id": "YxutXjn2g97R",
        "colab_type": "text"
      },
      "source": [
        "# Reshaping and transposing arrays"
      ]
    },
    {
      "cell_type": "code",
      "metadata": {
        "id": "3S1g5cBvnbod",
        "colab_type": "code",
        "outputId": "4787392d-e215-4d3c-a3ea-b5c5b5e60ca8",
        "colab": {
          "base_uri": "https://localhost:8080/",
          "height": 69
        }
      },
      "source": [
        "arr1.shape\n",
        "\n",
        "arr1_reshape = arr1.reshape(2,3,1)  ## use reshape function to change shape of array\n",
        "## without changing data within\n",
        "\n",
        "np.random.seed(1)\n",
        "\n",
        "arr5 = np.random.random(size=(2,3,1))\n",
        "arr5\n",
        "\n",
        "mult_arr = arr5 * arr1_reshape\n",
        "mult_arr\n",
        "\n",
        "## transpose array \n",
        "np.transpose(arr5)\n",
        "arr1.T  ## same as transposing functioning above"
      ],
      "execution_count": 0,
      "outputs": [
        {
          "output_type": "execute_result",
          "data": {
            "text/plain": [
              "array([[ 2. ,  5. ],\n",
              "       [ 1.2,  1. ],\n",
              "       [ 3. , 32. ]])"
            ]
          },
          "metadata": {
            "tags": []
          },
          "execution_count": 132
        }
      ]
    },
    {
      "cell_type": "markdown",
      "metadata": {
        "id": "JxVGY0vCzToP",
        "colab_type": "text"
      },
      "source": [
        "## Dot Product vs Element Multiplication"
      ]
    },
    {
      "cell_type": "code",
      "metadata": {
        "id": "IRFT4Y22zZA7",
        "colab_type": "code",
        "outputId": "284bea3f-0553-4055-8fa6-4d3714c2423b",
        "colab": {
          "base_uri": "https://localhost:8080/",
          "height": 193
        }
      },
      "source": [
        "np.random.seed(10)\n",
        "\n",
        "rand1 = np.random.random_integers(1, 16, size = (5,3))\n",
        "rand2 = np.random.random_integers(1, 16, size = (5,3))\n",
        "\n",
        "## element-wise multiplication \n",
        "rand1 * rand2\n",
        "\n",
        "## matrix multiplication or dot product\n",
        "np.dot(rand1, rand2.T)  #matrix multiplication"
      ],
      "execution_count": 0,
      "outputs": [
        {
          "output_type": "stream",
          "text": [
            "/usr/local/lib/python3.6/dist-packages/ipykernel_launcher.py:3: DeprecationWarning: This function is deprecated. Please call randint(1, 16 + 1) instead\n",
            "  This is separate from the ipykernel package so we can avoid doing imports until\n",
            "/usr/local/lib/python3.6/dist-packages/ipykernel_launcher.py:4: DeprecationWarning: This function is deprecated. Please call randint(1, 16 + 1) instead\n",
            "  after removing the cwd from sys.path.\n"
          ],
          "name": "stderr"
        },
        {
          "output_type": "execute_result",
          "data": {
            "text/plain": [
              "array([[169, 213,  79, 363, 313],\n",
              "       [183, 161,  75, 282, 178],\n",
              "       [243, 249, 111, 418, 374],\n",
              "       [295, 203, 127, 334, 292],\n",
              "       [130, 140,  64, 227, 249]])"
            ]
          },
          "metadata": {
            "tags": []
          },
          "execution_count": 142
        }
      ]
    },
    {
      "cell_type": "code",
      "metadata": {
        "id": "EnR_tq-FE2pl",
        "colab_type": "code",
        "colab": {}
      },
      "source": [
        "##Dot Product Example \n",
        "\n",
        "\n",
        "import random as rd \n",
        "import numpy as np\n",
        "import pandas as pd \n",
        "\n",
        "np.random.seed(0)\n",
        "\n",
        "sales_matrix = np.random.random_integers (0, high =20, size=(5,3))\n",
        "print(sales_matrix)\n",
        "\n",
        "##  Turn into a Panda Dataframe \n",
        "\n",
        "df_sales = pd.DataFrame(sales_matrix, index=['Mon', 'Tue', 'Wed', 'Thurs', 'Fri'], \n",
        "                        columns = ['Cars','Boats','Houses'])\n",
        "\n",
        "\n",
        "df_sales\n"
      ],
      "execution_count": 0,
      "outputs": []
    },
    {
      "cell_type": "code",
      "metadata": {
        "id": "ZGXIvVpXT6Fx",
        "colab_type": "code",
        "colab": {}
      },
      "source": [
        "cost_matrix.shape ## need to reshape as "
      ],
      "execution_count": 0,
      "outputs": []
    },
    {
      "cell_type": "code",
      "metadata": {
        "id": "p_aDfZ4RRBFK",
        "colab_type": "code",
        "outputId": "d9a0213b-9391-4487-bc36-d31189291912",
        "colab": {
          "base_uri": "https://localhost:8080/",
          "height": 237
        }
      },
      "source": [
        "cost_matrix = np.array([12.12, 23, 6.38])\n",
        "\n",
        "costs = pd.DataFrame(cost_matrix.reshape(1,3), index=['Costs'], columns= ['Cars','Boats','Houses']) ###  note have to reshape cost_matrix\n",
        "print (costs)\n",
        "\n",
        "np.dot(df_sales, np.transpose(costs)) ## transposed costs dataframe\n",
        "sales = df_sales.dot(np.transpose(costs)) ## can also be written like this. \n",
        "\n",
        "\n",
        "df_test = df_sales ## create new df\n",
        "df_test['Total Sales'] = sales  ## add dot product df \n",
        "df_test\n"
      ],
      "execution_count": 0,
      "outputs": [
        {
          "output_type": "stream",
          "text": [
            "        Cars  Boats  Houses\n",
            "Costs  12.12   23.0    6.38\n"
          ],
          "name": "stdout"
        },
        {
          "output_type": "execute_result",
          "data": {
            "text/html": [
              "<div>\n",
              "<style scoped>\n",
              "    .dataframe tbody tr th:only-of-type {\n",
              "        vertical-align: middle;\n",
              "    }\n",
              "\n",
              "    .dataframe tbody tr th {\n",
              "        vertical-align: top;\n",
              "    }\n",
              "\n",
              "    .dataframe thead th {\n",
              "        text-align: right;\n",
              "    }\n",
              "</style>\n",
              "<table border=\"1\" class=\"dataframe\">\n",
              "  <thead>\n",
              "    <tr style=\"text-align: right;\">\n",
              "      <th></th>\n",
              "      <th>Cars</th>\n",
              "      <th>Boats</th>\n",
              "      <th>Houses</th>\n",
              "      <th>Total Sales</th>\n",
              "    </tr>\n",
              "  </thead>\n",
              "  <tbody>\n",
              "    <tr>\n",
              "      <th>Mon</th>\n",
              "      <td>12</td>\n",
              "      <td>15</td>\n",
              "      <td>0</td>\n",
              "      <td>490.44</td>\n",
              "    </tr>\n",
              "    <tr>\n",
              "      <th>Tue</th>\n",
              "      <td>3</td>\n",
              "      <td>3</td>\n",
              "      <td>7</td>\n",
              "      <td>150.02</td>\n",
              "    </tr>\n",
              "    <tr>\n",
              "      <th>Wed</th>\n",
              "      <td>9</td>\n",
              "      <td>19</td>\n",
              "      <td>18</td>\n",
              "      <td>660.92</td>\n",
              "    </tr>\n",
              "    <tr>\n",
              "      <th>Thurs</th>\n",
              "      <td>4</td>\n",
              "      <td>6</td>\n",
              "      <td>12</td>\n",
              "      <td>263.04</td>\n",
              "    </tr>\n",
              "    <tr>\n",
              "      <th>Fri</th>\n",
              "      <td>1</td>\n",
              "      <td>6</td>\n",
              "      <td>7</td>\n",
              "      <td>194.78</td>\n",
              "    </tr>\n",
              "  </tbody>\n",
              "</table>\n",
              "</div>"
            ],
            "text/plain": [
              "       Cars  Boats  Houses  Total Sales\n",
              "Mon      12     15       0       490.44\n",
              "Tue       3      3       7       150.02\n",
              "Wed       9     19      18       660.92\n",
              "Thurs     4      6      12       263.04\n",
              "Fri       1      6       7       194.78"
            ]
          },
          "metadata": {
            "tags": []
          },
          "execution_count": 35
        }
      ]
    },
    {
      "cell_type": "code",
      "metadata": {
        "id": "4vdZiLA1ddzp",
        "colab_type": "code",
        "colab": {}
      },
      "source": [
        ""
      ],
      "execution_count": 0,
      "outputs": []
    },
    {
      "cell_type": "code",
      "metadata": {
        "colab_type": "code",
        "outputId": "78b4e149-d90e-43c2-a9db-2385d01cd56d",
        "id": "LfzrVUJvb1wP",
        "colab": {
          "base_uri": "https://localhost:8080/",
          "height": 225
        }
      },
      "source": [
        " \n",
        "print(sales)\n",
        "print(df_sales)\n",
        "\n",
        "\n"
      ],
      "execution_count": 0,
      "outputs": [
        {
          "output_type": "stream",
          "text": [
            "        Costs\n",
            "Mon    490.44\n",
            "Tue    150.02\n",
            "Wed    660.92\n",
            "Thurs  263.04\n",
            "Fri    194.78\n",
            "       Cars  Boats  Houses  Total Sales\n",
            "Mon      12     15       0       490.44\n",
            "Tue       3      3       7       150.02\n",
            "Wed       9     19      18       660.92\n",
            "Thurs     4      6      12       263.04\n",
            "Fri       1      6       7       194.78\n"
          ],
          "name": "stdout"
        }
      ]
    },
    {
      "cell_type": "code",
      "metadata": {
        "colab_type": "code",
        "outputId": "78b4e149-d90e-43c2-a9db-2385d01cd56d",
        "id": "_CqYt79TbzoL",
        "colab": {
          "base_uri": "https://localhost:8080/",
          "height": 225
        }
      },
      "source": [
        "\n",
        "df_test = df_sales \n",
        "print(sales)\n",
        "print(df_sales)\n",
        "\n",
        "##df_test['Total Sales'] = sales \n",
        "##df_test\n"
      ],
      "execution_count": 0,
      "outputs": [
        {
          "output_type": "stream",
          "text": [
            "        Costs\n",
            "Mon    490.44\n",
            "Tue    150.02\n",
            "Wed    660.92\n",
            "Thurs  263.04\n",
            "Fri    194.78\n",
            "       Cars  Boats  Houses  Total Sales\n",
            "Mon      12     15       0       490.44\n",
            "Tue       3      3       7       150.02\n",
            "Wed       9     19      18       660.92\n",
            "Thurs     4      6      12       263.04\n",
            "Fri       1      6       7       194.78\n"
          ],
          "name": "stdout"
        }
      ]
    },
    {
      "cell_type": "code",
      "metadata": {
        "id": "wNO-37CUbjVD",
        "colab_type": "code",
        "outputId": "78b4e149-d90e-43c2-a9db-2385d01cd56d",
        "colab": {
          "base_uri": "https://localhost:8080/",
          "height": 225
        }
      },
      "source": [
        "\n",
        "df_test = df_sales \n",
        "print(sales)\n",
        "print(df_sales)\n",
        "\n",
        "##df_test['Total Sales'] = sales \n",
        "##df_test\n"
      ],
      "execution_count": 0,
      "outputs": [
        {
          "output_type": "stream",
          "text": [
            "        Costs\n",
            "Mon    490.44\n",
            "Tue    150.02\n",
            "Wed    660.92\n",
            "Thurs  263.04\n",
            "Fri    194.78\n",
            "       Cars  Boats  Houses  Total Sales\n",
            "Mon      12     15       0       490.44\n",
            "Tue       3      3       7       150.02\n",
            "Wed       9     19      18       660.92\n",
            "Thurs     4      6      12       263.04\n",
            "Fri       1      6       7       194.78\n"
          ],
          "name": "stdout"
        }
      ]
    },
    {
      "cell_type": "markdown",
      "metadata": {
        "id": "jEtV8_SndlMw",
        "colab_type": "text"
      },
      "source": [
        "##Matrix Comparison Operators"
      ]
    },
    {
      "cell_type": "code",
      "metadata": {
        "id": "2ZniorMDdqeL",
        "colab_type": "code",
        "outputId": "f8b90348-f712-4b51-d815-e2788c140b00",
        "colab": {
          "base_uri": "https://localhost:8080/",
          "height": 121
        }
      },
      "source": [
        "## using arr1 and arr2 created earlier \n",
        "np.random.seed(101)\n",
        "arr3 = np.random.randint(0,3, size=(2,3))\n",
        "print(arr1) \n",
        "print(arr3)\n",
        "\n",
        "arr1 > arr3 ## is the arr1 greater than arr2 elementwise returns bolean array \n",
        "arr1 == arr3 ## are they equal \n",
        "arr1 != arr3 ## are not equal elementwise \n",
        "bolean_array = arr1 == arr3 \n",
        "\n",
        "bolean_array\n",
        "\n",
        "##documentation https://colab.research.google.com/drive/1w_bqrtwFmXQaaQV6T_9hG3p5fupvUaK3#scrollTo=2ZniorMDdqeL&line=12&uniqifier=1\n"
      ],
      "execution_count": 0,
      "outputs": [
        {
          "output_type": "stream",
          "text": [
            "[[ 2.   1.2  3. ]\n",
            " [ 5.   1.  32. ]]\n",
            "[[1 2 1]\n",
            " [1 1 0]]\n"
          ],
          "name": "stdout"
        },
        {
          "output_type": "execute_result",
          "data": {
            "text/plain": [
              "array([[False, False, False],\n",
              "       [False,  True, False]])"
            ]
          },
          "metadata": {
            "tags": []
          },
          "execution_count": 56
        }
      ]
    },
    {
      "cell_type": "markdown",
      "metadata": {
        "id": "z41AeRWujdwu",
        "colab_type": "text"
      },
      "source": [
        "##Sorting Arrays "
      ]
    },
    {
      "cell_type": "code",
      "metadata": {
        "id": "khTYeCF5jgxH",
        "colab_type": "code",
        "outputId": "68f03558-8af2-486c-9a67-3d2da0db75b8",
        "colab": {
          "base_uri": "https://localhost:8080/",
          "height": 87
        }
      },
      "source": [
        "## create random array \n",
        "np.random.seed (0)\n",
        "\n",
        "rand_array = np.random.randint(0, 123, size=(3,5)) ##create random array\n",
        "rand_array.shape\n",
        "\n",
        "\n",
        "np.sort(rand_array) ## sort array on horizontal axis\n",
        "np.sort(rand_array, axis = 0 ) ##sort array on vertical axis\n",
        "\n",
        "print(rand_array)\n",
        "np.argsort(rand_array) ##provides the sort order of elements without sorting\n",
        "np.argmin (rand_array) ##location of min value starting at 0\n",
        "np.argmin (rand_array, axis =1)\n"
      ],
      "execution_count": 0,
      "outputs": [
        {
          "output_type": "stream",
          "text": [
            "[[ 44  47 117  64  67]\n",
            " [ 67 103   9  83  21]\n",
            " [114  36  87  70  88]]\n"
          ],
          "name": "stdout"
        },
        {
          "output_type": "execute_result",
          "data": {
            "text/plain": [
              "array([0, 2, 1])"
            ]
          },
          "metadata": {
            "tags": []
          },
          "execution_count": 86
        }
      ]
    },
    {
      "cell_type": "markdown",
      "metadata": {
        "id": "HYXxWEe4qKIy",
        "colab_type": "text"
      },
      "source": [
        "## Turn Image Into NumPy Array\n"
      ]
    },
    {
      "cell_type": "code",
      "metadata": {
        "id": "-nR9c9F8xptY",
        "colab_type": "code",
        "colab": {}
      },
      "source": [
        "from google.colab import files\n",
        "from io import BytesIO\n",
        "uploaded = files.upload()\n",
        "\n",
        "\n",
        "import io\n",
        "im = uploaded.open(BytesIO(uploaded['dog-photo.png']))"
      ],
      "execution_count": 0,
      "outputs": []
    },
    {
      "cell_type": "code",
      "metadata": {
        "id": "kXQM7qAVyCVq",
        "colab_type": "code",
        "colab": {}
      },
      "source": [
        "from matplotlib.image import imread\n",
        "\n",
        "panda = "
      ],
      "execution_count": 0,
      "outputs": []
    },
    {
      "cell_type": "markdown",
      "metadata": {
        "id": "RNyxWFSFg-ZD",
        "colab_type": "text"
      },
      "source": [
        "#Standard Deviation and Variance "
      ]
    },
    {
      "cell_type": "code",
      "metadata": {
        "id": "NTE2WJQKhCA5",
        "colab_type": "code",
        "colab": {}
      },
      "source": [
        "np.std(arr2) ## standard deviation over the entire array - measure of dispersion from mean \n",
        "np.var(arr2) ## variance on the the array \n",
        "\n",
        "high_var = np.array([1,100, 1000, 4343, 5000])\n",
        "low_var = np.array ([2,4, 6, 8, 10])\n",
        "\n",
        "print(np.std(high_var))\n",
        "print(np.std(low_var))"
      ],
      "execution_count": 0,
      "outputs": []
    },
    {
      "cell_type": "markdown",
      "metadata": {
        "id": "cwJP4CawkaUi",
        "colab_type": "text"
      },
      "source": [
        "#Matplotlib "
      ]
    },
    {
      "cell_type": "markdown",
      "metadata": {
        "colab_type": "text",
        "id": "z2HBnRsckvpi"
      },
      "source": [
        "##Matplotlib is used for plotting data "
      ]
    },
    {
      "cell_type": "code",
      "metadata": {
        "id": "7z_fljK0k0K0",
        "colab_type": "code",
        "outputId": "ed3a15fe-693a-4fae-f825-52af00435b8e",
        "colab": {
          "base_uri": "https://localhost:8080/",
          "height": 265
        }
      },
      "source": [
        "%matplotlib inline\n",
        "import matplotlib.pyplot as plt\n",
        "##plt.hist(high_var)\n",
        "plt.hist(low_var)\n",
        "plt.show()\n"
      ],
      "execution_count": 0,
      "outputs": [
        {
          "output_type": "display_data",
          "data": {
            "image/png": "[encoded data removed]",
            "text/plain": [
              "<Figure size 432x288 with 1 Axes>"
            ]
          },
          "metadata": {
            "tags": []
          }
        }
      ]
    },
    {
      "cell_type": "markdown",
      "metadata": {
        "id": "2eTnYZlGOzrk",
        "colab_type": "text"
      },
      "source": [
        "#Python Magic Functions "
      ]
    },
    {
      "cell_type": "code",
      "metadata": {
        "id": "iwWGTlkCPFBz",
        "colab_type": "code",
        "outputId": "311645e9-9c71-4f20-a1fa-bb3a67f007c3",
        "colab": {
          "base_uri": "https://localhost:8080/",
          "height": 35
        }
      },
      "source": [
        ""
      ],
      "execution_count": 0,
      "outputs": [
        {
          "output_type": "execute_result",
          "data": {
            "text/plain": [
              "2.8284271247461903"
            ]
          },
          "metadata": {
            "tags": []
          },
          "execution_count": 85
        }
      ]
    },
    {
      "cell_type": "code",
      "metadata": {
        "id": "50mWkyJAPFU7",
        "colab_type": "code",
        "colab": {}
      },
      "source": [
        "## Python magic functions do special things\n",
        "## they begin with \"%\"\n",
        "\n",
        "## example %timeit which times how long it takes to run a line of code "
      ],
      "execution_count": 0,
      "outputs": []
    },
    {
      "cell_type": "code",
      "metadata": {
        "id": "bIPYN5p7O4eN",
        "colab_type": "code",
        "colab": {}
      },
      "source": [
        ""
      ],
      "execution_count": 0,
      "outputs": []
    },
    {
      "cell_type": "markdown",
      "metadata": {
        "id": "bjWpoJWmxQUo",
        "colab_type": "text"
      },
      "source": [
        "\n",
        "##Using Dataframes with Arrays"
      ]
    },
    {
      "cell_type": "code",
      "metadata": {
        "id": "uRHzPe--xVUj",
        "colab_type": "code",
        "outputId": "ebb4c7a9-79e2-4df1-d421-a6c408153328",
        "colab": {
          "base_uri": "https://localhost:8080/",
          "height": 110
        }
      },
      "source": [
        "##passing NumPy arrays to panda dataframes \n",
        "##Pandas built on arr\n",
        "\n",
        "df = pd.DataFrame(arr1)\n",
        "df"
      ],
      "execution_count": 0,
      "outputs": [
        {
          "output_type": "execute_result",
          "data": {
            "text/html": [
              "<div>\n",
              "<style scoped>\n",
              "    .dataframe tbody tr th:only-of-type {\n",
              "        vertical-align: middle;\n",
              "    }\n",
              "\n",
              "    .dataframe tbody tr th {\n",
              "        vertical-align: top;\n",
              "    }\n",
              "\n",
              "    .dataframe thead th {\n",
              "        text-align: right;\n",
              "    }\n",
              "</style>\n",
              "<table border=\"1\" class=\"dataframe\">\n",
              "  <thead>\n",
              "    <tr style=\"text-align: right;\">\n",
              "      <th></th>\n",
              "      <th>0</th>\n",
              "      <th>1</th>\n",
              "      <th>2</th>\n",
              "    </tr>\n",
              "  </thead>\n",
              "  <tbody>\n",
              "    <tr>\n",
              "      <th>0</th>\n",
              "      <td>2.0</td>\n",
              "      <td>1.2</td>\n",
              "      <td>3.0</td>\n",
              "    </tr>\n",
              "    <tr>\n",
              "      <th>1</th>\n",
              "      <td>2.0</td>\n",
              "      <td>1.0</td>\n",
              "      <td>32.0</td>\n",
              "    </tr>\n",
              "  </tbody>\n",
              "</table>\n",
              "</div>"
            ],
            "text/plain": [
              "     0    1     2\n",
              "0  2.0  1.2   3.0\n",
              "1  2.0  1.0  32.0"
            ]
          },
          "metadata": {
            "tags": []
          },
          "execution_count": 25
        }
      ]
    }
  ]
}